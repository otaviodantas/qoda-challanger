{
 "cells": [
  {
   "cell_type": "markdown",
   "metadata": {},
   "source": [
    "# Desafios propostos durante o Projeto Data Science do Zero"
   ]
  },
  {
   "cell_type": "markdown",
   "metadata": {},
   "source": [
    "* Desafio 1 (Python)\n",
    "* Tendo como dados de entrada a altura de uma pessoa, construa um algoritmo que calcule seu peso ideal, usando a seguinte fórmula: (72.7*altura) - 58"
   ]
  },
  {
   "cell_type": "code",
   "execution_count": null,
   "metadata": {},
   "outputs": [],
   "source": [
    "print('Qual o seu peso ideial?')\n",
    "\n",
    "altura = float(input('Qual a sual altura? \\n'))\n",
    "peso_ideal = (72.7 * altura) - 58\n",
    "\n",
    "print('Seu peso ideal é {} kgs.'.format(peso_ideal))"
   ]
  },
  {
   "cell_type": "markdown",
   "metadata": {},
   "source": [
    "* Desafio 2 (Condicionais)\n",
    "* Faça um Programa que pergunte em que turno você estuda. Peça para digitar M-matutino ou V-Vespertino ou N- Noturno. Imprima a mensagem \"Bom Dia!\", \"Boa Tarde!\" ou \"Boa Noite!\" ou \"Valor Inválido!\", conforme o caso.\n"
   ]
  },
  {
   "cell_type": "code",
   "execution_count": null,
   "metadata": {},
   "outputs": [],
   "source": [
    "turno = input('Em qual turno você estuda?\\n' \n",
    "              'M -> Matutino\\n'\n",
    "              'V -> Vespertino\\n'\n",
    "              'N -> Noturno\\n')\n",
    "\n",
    "if turno == 'M':\n",
    "    print('Bom dia!')\n",
    "\n",
    "elif turno == 'V':\n",
    "    print ('Boa tarde!')\n",
    "\n",
    "elif turno == 'N':\n",
    "    print('Boa noite!')\n",
    "\n",
    "else:\n",
    "    print('Valor inválido!')"
   ]
  },
  {
   "cell_type": "markdown",
   "metadata": {},
   "source": [
    "* Desafio 3 (Repetição)\n",
    "* A série de Fibonacci é formada pela seqüência 1,1,2,3,5,8,13,21,34,55,... Faça um programa capaz de gerar a série até o n−ésimo termo."
   ]
  },
  {
   "cell_type": "code",
   "execution_count": null,
   "metadata": {},
   "outputs": [],
   "source": [
    "limite = int(input('Define o limite da soma: '))\n",
    "\n",
    "n_fi = 0\n",
    "soma = 1\n",
    "so_conta = 0\n",
    "\n",
    "while (so_conta < limite):\n",
    "    n_fi = n_fi + soma\n",
    "    soma = n_fi - soma\n",
    "    so_conta += 1\n",
    "    print (n_fi)"
   ]
  },
  {
   "cell_type": "markdown",
   "metadata": {},
   "source": [
    "* Desafio 4 (Funções)\n",
    "* Reverso do número. Faça uma função que retorne o reverso de um número inteiro informado. Por exemplo: 127 -> 721."
   ]
  },
  {
   "cell_type": "code",
   "execution_count": null,
   "metadata": {},
   "outputs": [],
   "source": [
    "def referce (numero):\n",
    "    numero = numero[::-1]\n",
    "    return numero\n",
    "\n",
    "data = input('Escolha a sequeência de nuúemros: ')\n",
    "data = referce(data)\n",
    "print(data)"
   ]
  },
  {
   "cell_type": "code",
   "execution_count": null,
   "metadata": {},
   "outputs": [],
   "source": []
  }
 ],
 "metadata": {
  "kernelspec": {
   "display_name": "Python 3",
   "language": "python",
   "name": "python3"
  },
  "language_info": {
   "codemirror_mode": {
    "name": "ipython",
    "version": 3
   },
   "file_extension": ".py",
   "mimetype": "text/x-python",
   "name": "python",
   "nbconvert_exporter": "python",
   "pygments_lexer": "ipython3",
   "version": "3.6.4"
  }
 },
 "nbformat": 4,
 "nbformat_minor": 4
}
